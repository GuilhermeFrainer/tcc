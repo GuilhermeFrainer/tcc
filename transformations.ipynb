{
 "cells": [
  {
   "cell_type": "markdown",
   "metadata": {},
   "source": [
    "O objetivo do código aqui é realizar manipulações nos dados.\n",
    "\n",
    "Manipulações realizadas:\n",
    "\n",
    "1. $\\Delta x_t$\n",
    "\n",
    "2. $\\Delta^2 x_t$\n",
    "\n",
    "3. $ln(x_t)$\n",
    "\n",
    "4. $\\Delta ln(x_t)$\n",
    "\n",
    "5. $\\Delta^2 ln(x_t)$"
   ]
  },
  {
   "cell_type": "code",
   "execution_count": 1,
   "metadata": {},
   "outputs": [],
   "source": [
    "import pandas as pd\n",
    "import numpy as np\n",
    "import utils"
   ]
  },
  {
   "cell_type": "code",
   "execution_count": 2,
   "metadata": {},
   "outputs": [
    {
     "data": {
      "text/html": [
       "<div>\n",
       "<style scoped>\n",
       "    .dataframe tbody tr th:only-of-type {\n",
       "        vertical-align: middle;\n",
       "    }\n",
       "\n",
       "    .dataframe tbody tr th {\n",
       "        vertical-align: top;\n",
       "    }\n",
       "\n",
       "    .dataframe thead th {\n",
       "        text-align: right;\n",
       "    }\n",
       "</style>\n",
       "<table border=\"1\" class=\"dataframe\">\n",
       "  <thead>\n",
       "    <tr style=\"text-align: right;\">\n",
       "      <th></th>\n",
       "      <th>month</th>\n",
       "      <th>ipca</th>\n",
       "      <th>ipca_15</th>\n",
       "      <th>selic</th>\n",
       "      <th>m1</th>\n",
       "      <th>m2</th>\n",
       "      <th>m3</th>\n",
       "      <th>m4</th>\n",
       "      <th>ibovespa</th>\n",
       "      <th>cambio</th>\n",
       "      <th>...</th>\n",
       "      <th>result_primario</th>\n",
       "      <th>el_nino</th>\n",
       "      <th>epu_br</th>\n",
       "      <th>epu_usa</th>\n",
       "      <th>ind_conf_cons</th>\n",
       "      <th>desemprego</th>\n",
       "      <th>rendimento</th>\n",
       "      <th>crb_cmdt</th>\n",
       "      <th>crb_food</th>\n",
       "      <th>crb_metal</th>\n",
       "    </tr>\n",
       "  </thead>\n",
       "  <tbody>\n",
       "    <tr>\n",
       "      <th>0</th>\n",
       "      <td>jan/03</td>\n",
       "      <td>2.25</td>\n",
       "      <td>1.98</td>\n",
       "      <td>25.145161</td>\n",
       "      <td>94977783</td>\n",
       "      <td>391237088</td>\n",
       "      <td>696054502</td>\n",
       "      <td>810272451</td>\n",
       "      <td>10941.09</td>\n",
       "      <td>3.4384</td>\n",
       "      <td>...</td>\n",
       "      <td>48763.52</td>\n",
       "      <td>0.9</td>\n",
       "      <td>88.150920</td>\n",
       "      <td>185.591626</td>\n",
       "      <td>103.0</td>\n",
       "      <td>14.068293</td>\n",
       "      <td>NaN</td>\n",
       "      <td>250.14</td>\n",
       "      <td>239.98</td>\n",
       "      <td>203.34</td>\n",
       "    </tr>\n",
       "    <tr>\n",
       "      <th>1</th>\n",
       "      <td>fev/03</td>\n",
       "      <td>1.57</td>\n",
       "      <td>2.19</td>\n",
       "      <td>25.821429</td>\n",
       "      <td>93602937</td>\n",
       "      <td>393976058</td>\n",
       "      <td>706788435</td>\n",
       "      <td>815745074</td>\n",
       "      <td>10280.61</td>\n",
       "      <td>3.5908</td>\n",
       "      <td>...</td>\n",
       "      <td>51066.28</td>\n",
       "      <td>0.6</td>\n",
       "      <td>120.281038</td>\n",
       "      <td>161.759767</td>\n",
       "      <td>103.5</td>\n",
       "      <td>14.570732</td>\n",
       "      <td>NaN</td>\n",
       "      <td>250.13</td>\n",
       "      <td>233.46</td>\n",
       "      <td>206.19</td>\n",
       "    </tr>\n",
       "    <tr>\n",
       "      <th>2</th>\n",
       "      <td>mar/03</td>\n",
       "      <td>1.23</td>\n",
       "      <td>1.14</td>\n",
       "      <td>26.500000</td>\n",
       "      <td>89822584</td>\n",
       "      <td>388142457</td>\n",
       "      <td>710712013</td>\n",
       "      <td>820859498</td>\n",
       "      <td>11273.63</td>\n",
       "      <td>3.4469</td>\n",
       "      <td>...</td>\n",
       "      <td>51462.26</td>\n",
       "      <td>0.4</td>\n",
       "      <td>133.688711</td>\n",
       "      <td>224.647203</td>\n",
       "      <td>101.9</td>\n",
       "      <td>15.198780</td>\n",
       "      <td>182585.2573</td>\n",
       "      <td>248.06</td>\n",
       "      <td>234.18</td>\n",
       "      <td>202.43</td>\n",
       "    </tr>\n",
       "    <tr>\n",
       "      <th>3</th>\n",
       "      <td>abr/03</td>\n",
       "      <td>0.97</td>\n",
       "      <td>1.14</td>\n",
       "      <td>26.500000</td>\n",
       "      <td>87410599</td>\n",
       "      <td>385467653</td>\n",
       "      <td>712800120</td>\n",
       "      <td>823489095</td>\n",
       "      <td>12556.70</td>\n",
       "      <td>3.1187</td>\n",
       "      <td>...</td>\n",
       "      <td>55840.39</td>\n",
       "      <td>0.0</td>\n",
       "      <td>96.791932</td>\n",
       "      <td>176.579867</td>\n",
       "      <td>107.7</td>\n",
       "      <td>15.575610</td>\n",
       "      <td>178958.1301</td>\n",
       "      <td>247.57</td>\n",
       "      <td>235.03</td>\n",
       "      <td>204.02</td>\n",
       "    </tr>\n",
       "    <tr>\n",
       "      <th>4</th>\n",
       "      <td>mai/03</td>\n",
       "      <td>0.61</td>\n",
       "      <td>0.85</td>\n",
       "      <td>26.500000</td>\n",
       "      <td>86231763</td>\n",
       "      <td>388490690</td>\n",
       "      <td>721321334</td>\n",
       "      <td>833412205</td>\n",
       "      <td>13421.60</td>\n",
       "      <td>2.9557</td>\n",
       "      <td>...</td>\n",
       "      <td>57077.43</td>\n",
       "      <td>-0.3</td>\n",
       "      <td>85.230528</td>\n",
       "      <td>122.309831</td>\n",
       "      <td>112.0</td>\n",
       "      <td>16.203659</td>\n",
       "      <td>177284.6602</td>\n",
       "      <td>250.48</td>\n",
       "      <td>238.04</td>\n",
       "      <td>206.54</td>\n",
       "    </tr>\n",
       "  </tbody>\n",
       "</table>\n",
       "<p>5 rows × 42 columns</p>\n",
       "</div>"
      ],
      "text/plain": [
       "    month  ipca  ipca_15      selic        m1         m2         m3  \\\n",
       "0  jan/03  2.25     1.98  25.145161  94977783  391237088  696054502   \n",
       "1  fev/03  1.57     2.19  25.821429  93602937  393976058  706788435   \n",
       "2  mar/03  1.23     1.14  26.500000  89822584  388142457  710712013   \n",
       "3  abr/03  0.97     1.14  26.500000  87410599  385467653  712800120   \n",
       "4  mai/03  0.61     0.85  26.500000  86231763  388490690  721321334   \n",
       "\n",
       "          m4  ibovespa  cambio  ...  result_primario  el_nino      epu_br  \\\n",
       "0  810272451  10941.09  3.4384  ...         48763.52      0.9   88.150920   \n",
       "1  815745074  10280.61  3.5908  ...         51066.28      0.6  120.281038   \n",
       "2  820859498  11273.63  3.4469  ...         51462.26      0.4  133.688711   \n",
       "3  823489095  12556.70  3.1187  ...         55840.39      0.0   96.791932   \n",
       "4  833412205  13421.60  2.9557  ...         57077.43     -0.3   85.230528   \n",
       "\n",
       "      epu_usa  ind_conf_cons  desemprego   rendimento  crb_cmdt  crb_food  \\\n",
       "0  185.591626          103.0   14.068293          NaN    250.14    239.98   \n",
       "1  161.759767          103.5   14.570732          NaN    250.13    233.46   \n",
       "2  224.647203          101.9   15.198780  182585.2573    248.06    234.18   \n",
       "3  176.579867          107.7   15.575610  178958.1301    247.57    235.03   \n",
       "4  122.309831          112.0   16.203659  177284.6602    250.48    238.04   \n",
       "\n",
       "   crb_metal  \n",
       "0     203.34  \n",
       "1     206.19  \n",
       "2     202.43  \n",
       "3     204.02  \n",
       "4     206.54  \n",
       "\n",
       "[5 rows x 42 columns]"
      ]
     },
     "execution_count": 2,
     "metadata": {},
     "output_type": "execute_result"
    }
   ],
   "source": [
    "df = pd.read_csv(\"dados/dados_crus2003.csv\", sep=\";\", decimal=\",\", thousands=\".\")\n",
    "df.head(5)"
   ]
  },
  {
   "cell_type": "code",
   "execution_count": 3,
   "metadata": {},
   "outputs": [],
   "source": [
    "# Transformação 1\n",
    "f = lambda df, i, col_name: df.loc[i, col_name] - df.loc[i - 1, col_name]\n",
    "utils.save_tranformed_df(\"dados/delta.csv\", df, f)"
   ]
  },
  {
   "cell_type": "code",
   "execution_count": 5,
   "metadata": {},
   "outputs": [],
   "source": [
    "# Transformação 2\n",
    "f = lambda df, i, col_name: (df.loc[i, col_name] - df.loc[i - 1, col_name]) - (df.loc[i - 1, col_name] - df.loc[i - 2, col_name])\n",
    "utils.save_tranformed_df(\"dados/delta_quadrado.csv\", df, f, skip=[0, 1])"
   ]
  },
  {
   "cell_type": "code",
   "execution_count": 5,
   "metadata": {},
   "outputs": [
    {
     "name": "stderr",
     "output_type": "stream",
     "text": [
      "C:\\Users\\guisf\\AppData\\Local\\Temp\\ipykernel_20564\\3570741408.py:2: RuntimeWarning: divide by zero encountered in log\n",
      "  f = lambda df, i, col_name: np.log(df.loc[i, col_name])\n",
      "C:\\Users\\guisf\\AppData\\Local\\Temp\\ipykernel_20564\\3570741408.py:2: RuntimeWarning: invalid value encountered in log\n",
      "  f = lambda df, i, col_name: np.log(df.loc[i, col_name])\n"
     ]
    }
   ],
   "source": [
    "# Transformação 3\n",
    "f = lambda df, i, col_name: np.log(df.loc[i, col_name])\n",
    "utils.save_tranformed_df(\"dados/log.csv\", df, f)"
   ]
  },
  {
   "cell_type": "code",
   "execution_count": 6,
   "metadata": {},
   "outputs": [
    {
     "name": "stderr",
     "output_type": "stream",
     "text": [
      "C:\\Users\\guisf\\AppData\\Local\\Temp\\ipykernel_20564\\814373823.py:2: RuntimeWarning: divide by zero encountered in log\n",
      "  f = lambda df, i, col_name: np.log(df.loc[i, col_name]) - np.log(df.loc[i - 1, col_name])\n",
      "C:\\Users\\guisf\\AppData\\Local\\Temp\\ipykernel_20564\\814373823.py:2: RuntimeWarning: invalid value encountered in log\n",
      "  f = lambda df, i, col_name: np.log(df.loc[i, col_name]) - np.log(df.loc[i - 1, col_name])\n"
     ]
    }
   ],
   "source": [
    "# Tranformação 4\n",
    "f = lambda df, i, col_name: np.log(df.loc[i, col_name]) - np.log(df.loc[i - 1, col_name])\n",
    "utils.save_tranformed_df(\"dados/delta_log.csv\", df, f)"
   ]
  },
  {
   "cell_type": "code",
   "execution_count": 7,
   "metadata": {},
   "outputs": [
    {
     "name": "stderr",
     "output_type": "stream",
     "text": [
      "C:\\Users\\guisf\\AppData\\Local\\Temp\\ipykernel_8528\\4120892083.py:2: RuntimeWarning: divide by zero encountered in log\n",
      "  f = lambda df, i, col_name: (np.log(df.loc[i, col_name]) - np.log(df.loc[i - 1, col_name])) - (np.log(df.loc[i - 1, col_name]) - np.log(df.loc[i - 2, col_name]))\n",
      "C:\\Users\\guisf\\AppData\\Local\\Temp\\ipykernel_8528\\4120892083.py:2: RuntimeWarning: invalid value encountered in log\n",
      "  f = lambda df, i, col_name: (np.log(df.loc[i, col_name]) - np.log(df.loc[i - 1, col_name])) - (np.log(df.loc[i - 1, col_name]) - np.log(df.loc[i - 2, col_name]))\n"
     ]
    }
   ],
   "source": [
    "# Tranformação 5\n",
    "f = lambda df, i, col_name: (np.log(df.loc[i, col_name]) - np.log(df.loc[i - 1, col_name])) - (np.log(df.loc[i - 1, col_name]) - np.log(df.loc[i - 2, col_name]))\n",
    "utils.save_tranformed_df(\"dados/delta_log_quadrado.csv\", df, f, skip=[0, 1])"
   ]
  },
  {
   "cell_type": "markdown",
   "metadata": {},
   "source": [
    "O código gera corretamente as versões transformadas,\n",
    "mas fizeram-se algumas mudanças manuais nos arquivos posteriormente.\n",
    "\n",
    "Removeram-se as entradas anteriores a out/2003, pois o maior lag que vai se utilizar é de 3."
   ]
  }
 ],
 "metadata": {
  "kernelspec": {
   "display_name": "Python 3",
   "language": "python",
   "name": "python3"
  },
  "language_info": {
   "codemirror_mode": {
    "name": "ipython",
    "version": 3
   },
   "file_extension": ".py",
   "mimetype": "text/x-python",
   "name": "python",
   "nbconvert_exporter": "python",
   "pygments_lexer": "ipython3",
   "version": "3.11.6"
  }
 },
 "nbformat": 4,
 "nbformat_minor": 2
}
